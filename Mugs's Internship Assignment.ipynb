{
 "cells": [
  {
   "cell_type": "markdown",
   "id": "851534b5",
   "metadata": {},
   "source": [
    "# Goal of this assignment is to:\n",
    "#### 1. Get familiar with the json object format contained in each line of the 4 files:\n",
    "        a. Patient.ndjson\n",
    "        b. Condition.ndjson\n",
    "        c. Encounter.ndjson\n",
    "        d. EncounterICU.ndjson\n",
    "        \n",
    "#### 2. For each patient, create an array of conditions associated. The expected output for this is a dictionary with patient_id as key and an array of Condition json as value.\n",
    "\n",
    "#### 3. For each condition, assign an estimated time for the condition using the corresponding encounter in the Encounter.json or EncounterICU.ndjson.\n",
    "\n",
    "#### Choose the start_time in the Encounter to associate time to each condition.\n",
    "\n",
    "#### 4. Finally, create a csv file with the following columns:\n",
    "        a. Patient_id (Column name: pid)\n",
    "        b. Timestamp (unix format) (Column name: time)\n",
    "        c. Condition code (Column name: code)\n",
    "        d. Condition string (Column name: description)\n",
    "\n",
    "#### 5. You are required to submit the csv file as well as the jupyter notebook used to generate the csv file"
   ]
  },
  {
   "cell_type": "markdown",
   "id": "6b013e35",
   "metadata": {},
   "source": [
    "# Libraries required for the assignment"
   ]
  },
  {
   "cell_type": "code",
   "execution_count": 1,
   "id": "e63f0af0",
   "metadata": {},
   "outputs": [],
   "source": [
    "import json\n",
    "import pandas as pd\n",
    "from datetime import datetime"
   ]
  },
  {
   "cell_type": "code",
   "execution_count": 3,
   "id": "038ca237",
   "metadata": {},
   "outputs": [],
   "source": [
    "# Function to read JSON file line by line and return a list of JSON objects  (all files are in the same folder)\n",
    "def read_ndjson(file_path):\n",
    "    data = []\n",
    "    with open(file_path, 'r') as file:\n",
    "        for line in file:\n",
    "            data.append(json.loads(line))\n",
    "    return data"
   ]
  },
  {
   "cell_type": "code",
   "execution_count": 4,
   "id": "44c679ba",
   "metadata": {},
   "outputs": [],
   "source": [
    "# Read Patient.ndjson\n",
    "patients = read_ndjson(\"Patient.ndjson\")"
   ]
  },
  {
   "cell_type": "code",
   "execution_count": 5,
   "id": "f61fd57b",
   "metadata": {},
   "outputs": [],
   "source": [
    "# Read Condition.ndjson\n",
    "conditions = read_ndjson(\"Condition.ndjson\")"
   ]
  },
  {
   "cell_type": "code",
   "execution_count": 6,
   "id": "44254607",
   "metadata": {},
   "outputs": [],
   "source": [
    "# Read Encounter.ndjson\n",
    "encounters = read_ndjson(\"Encounter.ndjson\")"
   ]
  },
  {
   "cell_type": "code",
   "execution_count": 7,
   "id": "37bbad4c",
   "metadata": {},
   "outputs": [],
   "source": [
    "# Read EncounterICU.ndjson\n",
    "encounters_icu = read_ndjson(\"EncounterICU.ndjson\")"
   ]
  },
  {
   "cell_type": "code",
   "execution_count": 8,
   "id": "3e40789a",
   "metadata": {},
   "outputs": [],
   "source": [
    "# Step 2: Create dictionary for each patient with associated conditions\n",
    "patient_conditions = {}\n",
    "for condition in conditions:\n",
    "    patient_id = condition[\"subject\"][\"reference\"].split(\"/\")[-1]\n",
    "    if patient_id not in patient_conditions:\n",
    "        patient_conditions[patient_id] = []\n",
    "    patient_conditions[patient_id].append(condition)"
   ]
  },
  {
   "cell_type": "code",
   "execution_count": 11,
   "id": "3ffaeb04",
   "metadata": {},
   "outputs": [],
   "source": [
    "# Step 3: Assign estimated time for each condition\n",
    "def get_encounter_start_time(condition, encounters):\n",
    "    encounter_id = condition[\"encounter\"][\"reference\"].split(\"/\")[-1]\n",
    "    for encounter in encounters:\n",
    "        if encounter[\"id\"] == encounter_id:\n",
    "            start_time = encounter[\"period\"][\"start\"]\n",
    "            return start_time\n",
    "    return None"
   ]
  },
  {
   "cell_type": "code",
   "execution_count": 12,
   "id": "b635a5eb",
   "metadata": {},
   "outputs": [],
   "source": [
    "# Update conditions with estimated time\n",
    "for patient_id, patient_condition_list in patient_conditions.items():\n",
    "    for condition in patient_condition_list:\n",
    "        start_time = get_encounter_start_time(condition, encounters)\n",
    "        if not start_time:\n",
    "            start_time = get_encounter_start_time(condition, encounters_icu)\n",
    "        condition[\"estimated_time\"] = start_time"
   ]
  },
  {
   "cell_type": "code",
   "execution_count": 13,
   "id": "1682898c",
   "metadata": {},
   "outputs": [],
   "source": [
    "# Step 4: Create DataFrame\n",
    "data = []\n",
    "for patient_id, patient_condition_list in patient_conditions.items():\n",
    "    for condition in patient_condition_list:\n",
    "        data.append({\n",
    "            \"pid\": patient_id,\n",
    "            \"time\": condition[\"estimated_time\"],\n",
    "            \"code\": condition[\"code\"][\"coding\"][0][\"code\"],\n",
    "            \"description\": condition[\"code\"][\"coding\"][0][\"display\"]\n",
    "        })\n",
    "\n",
    "df = pd.DataFrame(data)"
   ]
  },
  {
   "cell_type": "code",
   "execution_count": 14,
   "id": "ffcf0a30",
   "metadata": {},
   "outputs": [],
   "source": [
    "# Step 5: Write DataFrame to CSV\n",
    "df.to_csv(\"patient_conditions.csv\", index=False)"
   ]
  }
 ],
 "metadata": {
  "kernelspec": {
   "display_name": "Python 3",
   "language": "python",
   "name": "python3"
  },
  "language_info": {
   "codemirror_mode": {
    "name": "ipython",
    "version": 3
   },
   "file_extension": ".py",
   "mimetype": "text/x-python",
   "name": "python",
   "nbconvert_exporter": "python",
   "pygments_lexer": "ipython3",
   "version": "3.8.5"
  }
 },
 "nbformat": 4,
 "nbformat_minor": 5
}
